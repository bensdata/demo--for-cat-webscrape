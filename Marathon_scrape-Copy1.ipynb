{
 "cells": [
  {
   "cell_type": "code",
   "execution_count": 2,
   "metadata": {},
   "outputs": [],
   "source": [
    "import requests\n",
    "import pandas as pd\n",
    "from bs4 import BeautifulSoup as BS"
   ]
  },
  {
   "cell_type": "code",
   "execution_count": 3,
   "metadata": {},
   "outputs": [],
   "source": [
    "#Number of pages of results\n",
    "\n",
    "pgs_2016 = 154\n",
    "pgs_2017 = 147\n",
    "pgs_2018 = 85\n",
    "pgs_2019 = 113\n",
    "pgs_half_2016 = 898\n",
    "pgs_half_2017 = 892\n",
    "pgs_half_2018 = 598\n",
    "pgs_half_2019 = 690"
   ]
  },
  {
   "cell_type": "code",
   "execution_count": 10,
   "metadata": {},
   "outputs": [],
   "source": [
    "#Base URLs for each race results page\n",
    "\n",
    "urlbase_2019 = 'https://www.runrocknroll.com/Events/Nashville/The-Races/Marathon/2019-Results?gender=&agegroup=&bib=&firstname=&lastname=&page='\n",
    "urlbase_2018 = 'https://www.runrocknroll.com/Events/Nashville/The-Races/Marathon/2018-Results?gender=&agegroup=&bib=&firstname=&lastname=&page='\n",
    "urlbase_2017 = 'https://www.runrocknroll.com/Events/Nashville/The-Races/Marathon/2017-Results?gender=&agegroup=&bib=&firstname=&lastname=&page='\n",
    "urlbase_2016 = 'https://www.runrocknroll.com/Events/Nashville/The-Races/Marathon/2016-Results?gender=&agegroup=&bib=&firstname=&lastname=&page='\n",
    "urlbase_half_2019 = 'https://www.runrocknroll.com/Events/Nashville/The-Races/Half-Marathon/2019-Results?gender=&agegroup=&bib=&firstname=&lastname=&page='\n",
    "urlbase_half_2018 = 'https://www.runrocknroll.com/Events/Nashville/The-Races/Half-Marathon/2018-Results?gender=&agegroup=&bib=&firstname=&lastname=&page='\n",
    "urlbase_half_2017 = 'https://www.runrocknroll.com/Events/Nashville/The-Races/Half-Marathon/2017-Results?gender=&agegroup=&bib=&firstname=&lastname=&page='\n",
    "urlbase_half_2016 = 'https://www.runrocknroll.com/Events/Nashville/The-Races/Half-Marathon/2016-Results?gender=&agegroup=&bib=&firstname=&lastname=&page='"
   ]
  },
  {
   "cell_type": "markdown",
   "metadata": {},
   "source": [
    "#### Create an empty dataframe for each year that contains all pages of race results"
   ]
  },
  {
   "cell_type": "code",
   "execution_count": 5,
   "metadata": {},
   "outputs": [
    {
     "data": {
      "text/plain": [
       "1"
      ]
     },
     "execution_count": 5,
     "metadata": {},
     "output_type": "execute_result"
    }
   ],
   "source": [
    "marathon2019_df = pd.DataFrame()\n",
    "#page_list_2019 = list(range(1,pgs_2019+1))\n",
    "base_url = urlbase_2019\n",
    "for page in range(1,pgs_2019+1):\n",
    "    url = base_url + str(page)\n",
    "    response = requests.post(url)\n",
    "    soup = BS(response.text,'lxml')\n",
    "    tables = soup.find_all('table', attrs = {'class': 'table table-responsive table-bordered'})\n",
    "    results_list = pd.read_html(str(tables[0]))\n",
    "    marathon2019_df = marathon2019_df.append(results_list)\n",
    "marathon2019_df.shape\n",
    "len(results_list)"
   ]
  },
  {
   "cell_type": "code",
   "execution_count": 23,
   "metadata": {},
   "outputs": [
    {
     "data": {
      "text/html": [
       "<div>\n",
       "<style scoped>\n",
       "    .dataframe tbody tr th:only-of-type {\n",
       "        vertical-align: middle;\n",
       "    }\n",
       "\n",
       "    .dataframe tbody tr th {\n",
       "        vertical-align: top;\n",
       "    }\n",
       "\n",
       "    .dataframe thead th {\n",
       "        text-align: right;\n",
       "    }\n",
       "</style>\n",
       "<table border=\"1\" class=\"dataframe\">\n",
       "  <thead>\n",
       "    <tr style=\"text-align: right;\">\n",
       "      <th></th>\n",
       "      <th>Overall</th>\n",
       "      <th>Bib</th>\n",
       "      <th>Name</th>\n",
       "      <th>Time</th>\n",
       "    </tr>\n",
       "  </thead>\n",
       "  <tbody>\n",
       "    <tr>\n",
       "      <td>0</td>\n",
       "      <td>1</td>\n",
       "      <td>30001</td>\n",
       "      <td>Travis Peruski</td>\n",
       "      <td>01:37:54</td>\n",
       "    </tr>\n",
       "    <tr>\n",
       "      <td>1</td>\n",
       "      <td>2</td>\n",
       "      <td>1</td>\n",
       "      <td>Scott Wietecha</td>\n",
       "      <td>02:34:59</td>\n",
       "    </tr>\n",
       "    <tr>\n",
       "      <td>2</td>\n",
       "      <td>3</td>\n",
       "      <td>4</td>\n",
       "      <td>Jordan Wilson</td>\n",
       "      <td>02:35:24</td>\n",
       "    </tr>\n",
       "    <tr>\n",
       "      <td>3</td>\n",
       "      <td>4</td>\n",
       "      <td>30034</td>\n",
       "      <td>Steelton Flynn</td>\n",
       "      <td>02:39:59</td>\n",
       "    </tr>\n",
       "    <tr>\n",
       "      <td>4</td>\n",
       "      <td>5</td>\n",
       "      <td>30035</td>\n",
       "      <td>Thomas Ellis</td>\n",
       "      <td>02:42:09</td>\n",
       "    </tr>\n",
       "    <tr>\n",
       "      <td>...</td>\n",
       "      <td>...</td>\n",
       "      <td>...</td>\n",
       "      <td>...</td>\n",
       "      <td>...</td>\n",
       "    </tr>\n",
       "    <tr>\n",
       "      <td>6</td>\n",
       "      <td>99999</td>\n",
       "      <td>32183</td>\n",
       "      <td>Clarisa Horton</td>\n",
       "      <td>00:00:00</td>\n",
       "    </tr>\n",
       "    <tr>\n",
       "      <td>7</td>\n",
       "      <td>99999</td>\n",
       "      <td>31656</td>\n",
       "      <td>Tony Amburgy</td>\n",
       "      <td>00:00:00</td>\n",
       "    </tr>\n",
       "    <tr>\n",
       "      <td>8</td>\n",
       "      <td>99999</td>\n",
       "      <td>32258</td>\n",
       "      <td>Krista Zanetti</td>\n",
       "      <td>00:00:00</td>\n",
       "    </tr>\n",
       "    <tr>\n",
       "      <td>9</td>\n",
       "      <td>99999</td>\n",
       "      <td>32991</td>\n",
       "      <td>Patrick Kerr</td>\n",
       "      <td>00:00:00</td>\n",
       "    </tr>\n",
       "    <tr>\n",
       "      <td>10</td>\n",
       "      <td>99999</td>\n",
       "      <td>32320</td>\n",
       "      <td>Melinda Bennett</td>\n",
       "      <td>00:00:00</td>\n",
       "    </tr>\n",
       "  </tbody>\n",
       "</table>\n",
       "<p>2811 rows × 4 columns</p>\n",
       "</div>"
      ],
      "text/plain": [
       "    Overall    Bib             Name      Time\n",
       "0         1  30001   Travis Peruski  01:37:54\n",
       "1         2      1   Scott Wietecha  02:34:59\n",
       "2         3      4    Jordan Wilson  02:35:24\n",
       "3         4  30034   Steelton Flynn  02:39:59\n",
       "4         5  30035     Thomas Ellis  02:42:09\n",
       "..      ...    ...              ...       ...\n",
       "6     99999  32183   Clarisa Horton  00:00:00\n",
       "7     99999  31656     Tony Amburgy  00:00:00\n",
       "8     99999  32258   Krista Zanetti  00:00:00\n",
       "9     99999  32991     Patrick Kerr  00:00:00\n",
       "10    99999  32320  Melinda Bennett  00:00:00\n",
       "\n",
       "[2811 rows x 4 columns]"
      ]
     },
     "execution_count": 23,
     "metadata": {},
     "output_type": "execute_result"
    }
   ],
   "source": [
    "marathon2019_df"
   ]
  },
  {
   "cell_type": "markdown",
   "metadata": {},
   "source": [
    "#### Create Function \n",
    "   - which you give iputs: \n",
    "       - empty df name\n",
    "       - base url\n",
    "       - number of pages"
   ]
  },
  {
   "cell_type": "code",
   "execution_count": 8,
   "metadata": {},
   "outputs": [],
   "source": [
    "def web_scrape_to_df(base_url_input, page_number_input):\n",
    "    df = pd.DataFrame()\n",
    "    base_url = base_url_input\n",
    "    for page in range(1,page_number_input+1):\n",
    "        url = base_url + str(page)\n",
    "        response = requests.post(url)\n",
    "        soup = BS(response.text,'lxml')\n",
    "        tables = soup.find_all('table', attrs = {'class': 'table table-responsive table-bordered'})\n",
    "        results_list = pd.read_html(str(tables[0]))\n",
    "        df = df.append(results_list)\n",
    "    return df"
   ]
  },
  {
   "cell_type": "code",
   "execution_count": 12,
   "metadata": {},
   "outputs": [
    {
     "data": {
      "text/plain": [
       "(3842, 4)"
      ]
     },
     "execution_count": 12,
     "metadata": {},
     "output_type": "execute_result"
    }
   ],
   "source": [
    "marathon_2016_df = web_scrape_to_df(urlbase_2016 ,pgs_2016)\n",
    "marathon_2016_df.shape"
   ]
  },
  {
   "cell_type": "markdown",
   "metadata": {},
   "source": [
    "#### Run function on all races"
   ]
  },
  {
   "cell_type": "code",
   "execution_count": null,
   "metadata": {},
   "outputs": [],
   "source": []
  },
  {
   "cell_type": "markdown",
   "metadata": {},
   "source": [
    "#### Concat all the different races into on dataframe and read to csv"
   ]
  },
  {
   "cell_type": "code",
   "execution_count": 1,
   "metadata": {},
   "outputs": [],
   "source": [
    "# combined_races_df = pd.concat("
   ]
  },
  {
   "cell_type": "code",
   "execution_count": null,
   "metadata": {},
   "outputs": [],
   "source": []
  }
 ],
 "metadata": {
  "kernelspec": {
   "display_name": "Python 3",
   "language": "python",
   "name": "python3"
  },
  "language_info": {
   "codemirror_mode": {
    "name": "ipython",
    "version": 3
   },
   "file_extension": ".py",
   "mimetype": "text/x-python",
   "name": "python",
   "nbconvert_exporter": "python",
   "pygments_lexer": "ipython3",
   "version": "3.7.6"
  }
 },
 "nbformat": 4,
 "nbformat_minor": 2
}
